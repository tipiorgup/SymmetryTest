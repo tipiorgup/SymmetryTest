{
 "cells": [
  {
   "cell_type": "code",
   "execution_count": 485,
   "metadata": {},
   "outputs": [],
   "source": [
    "import os                                                              \n",
    "import time   \n",
    "import pickle\n",
    "import sys\n",
    "import numpy as np                                                     \n",
    "import pandas as pd   \n",
    "import seaborn as sns                                                  \n",
    "import matplotlib.pyplot as plt                                        \n",
    "                                                                       \n",
    "from sklearn.metrics import mean_absolute_error                        \n",
    "from sklearn.metrics import mean_squared_error                         \n",
    "from sklearn.model_selection import train_test_split                   \n",
    "from sklearn.preprocessing import StandardScaler                       \n",
    "from sklearn.model_selection import train_test_split                   \n",
    "\n",
    "import ase                                                             \n",
    "import ase.build                                                       \n",
    "from ase import Atoms                                                  \n",
    "from ase.atoms import Atoms                                            \n",
    "from ase.io import read, write                                         \n",
    "from ase.calculators.dftb import Dftb                                  \n",
    "from ase.units import Hartree, mol, kcal, Bohr                         \n",
    "                                                                       \n",
    "from Calculator import src_nogrd                                                       \n",
    "from Calculator.src_nogrd import sym_func_show                                    \n",
    "from Calculator.src_nogrd import xyzArr_generator                                 \n",
    "from Calculator.src_nogrd import feat_scaling_func                                \n",
    "from Calculator.src_nogrd import at_idx_map_generator\n",
    "from Calculator.src_nogrd import at_idx_map_generator_old\n",
    "                                                                                                                           \n",
    "import pickle\n",
    "from itertools import combinations_with_replacement as comb_replace\n",
    "                                                                       \n",
    "import Utils.DirNav                                                \n",
    "from Utils.dftb_traj_io import read_scan_traj"
   ]
  },
  {
   "cell_type": "code",
   "execution_count": 486,
   "metadata": {},
   "outputs": [],
   "source": [
    "root_dir = 'C:\\\\Users\\\\Tysh\\\\Desktop\\\\'\n",
    "\n",
    "geom_filename          = os.path.join(root_dir,'Au79.xyz')\n",
    "md_train_arr_origin    = read_scan_traj(filename=geom_filename)\n",
    "md_train_arr = md_train_arr_origin.copy(deep=False).reset_index(drop=True)"
   ]
  },
  {
   "cell_type": "code",
   "execution_count": 487,
   "metadata": {},
   "outputs": [],
   "source": [
    "nAtoms, xyzArr = xyzArr_generator(md_train_arr)# Calculate distance dataframe from xyz coordinates\n",
    "distances = src_nogrd.distances_from_xyz(xyzArr, nAtoms)"
   ]
  },
  {
   "cell_type": "code",
   "execution_count": 488,
   "metadata": {},
   "outputs": [],
   "source": [
    "struct = ase.io.read(geom_filename, format = \"xyz\")\n",
    "SUPPORTED_ELEMENTS = list(dict.fromkeys(struct.get_chemical_symbols()))"
   ]
  },
  {
   "cell_type": "code",
   "execution_count": 489,
   "metadata": {},
   "outputs": [
    {
     "data": {
      "text/plain": [
       "[79, 8, 1]"
      ]
     },
     "execution_count": 489,
     "metadata": {},
     "output_type": "execute_result"
    }
   ],
   "source": [
    "list(dict.fromkeys(struct.get_atomic_numbers()))"
   ]
  },
  {
   "cell_type": "code",
   "execution_count": 490,
   "metadata": {},
   "outputs": [],
   "source": [
    "lst=list(range(0, nAtoms))"
   ]
  },
  {
   "cell_type": "code",
   "execution_count": 491,
   "metadata": {},
   "outputs": [],
   "source": [
    "import itertools\n",
    "def find_tuples(lst, key, num=3):\n",
    "    return [i for i in itertools.permutations(lst, num) if sum(i)==key]\n",
    "angles=find_tuples(lst,nAtoms,3)"
   ]
  },
  {
   "cell_type": "code",
   "execution_count": 492,
   "metadata": {},
   "outputs": [],
   "source": [
    "all_ang=[]\n",
    "for j in range(0,len(md_train_arr)):\n",
    "    for i in range (0,nAtoms):\n",
    "        all_ang.append(md_train_arr[j].get_angle(*angles[i]))"
   ]
  },
  {
   "cell_type": "code",
   "execution_count": 493,
   "metadata": {},
   "outputs": [
    {
     "name": "stdout",
     "output_type": "stream",
     "text": [
      "['AuAu' 'AuO' 'AuH' 'OO' 'OH' 'HH']\n"
     ]
    }
   ],
   "source": [
    "cutoff_rad = max(distances.max(1))\n",
    "Rs_array = np.linspace(distances.min(1), max(distances.max(1)), num=int(max(distances.max(1))-min(distances.min(1))))   # based on max and min of the distances\n",
    "eta_array = (int(max(distances.max(1))-min(distances.min(1))))/(2*np.square(min(distances.min(1))*Rs_array))\n",
    "rad_params = np.array([(Rs_array[i], eta_array[i], cutoff_rad) for i in range(len(Rs_array)) ])\n",
    "\n",
    "\n",
    "\n",
    "# angular symmetry function parameters\n",
    "cutoff_ang = math.radians(max(all_ang))\n",
    "lambd_array = np.array([-1, 1])\n",
    "#zeta_array = np.array([1, 4, 16])\n",
    "zeta_array = np.array([math.radians(sum(all_ang)/len(all_ang))])\n",
    "#eta_ang_array = np.array([0.001, 0.01, 0.05])\n",
    "eta_ang_array = np.array([math.radians(min(all_ang))])\n",
    "\n",
    "# Each of the element need to be parametrized for all of the list. \n",
    "angList = np.array([e1+e2 for e1, e2 in comb_replace(SUPPORTED_ELEMENTS, 2)])\n",
    "print(angList)\n",
    "ang_comp = {el : angList for el in SUPPORTED_ELEMENTS}\n",
    "ang_params = np.array([[eta, zeta, lambd, cutoff_ang] for eta in eta_ang_array for zeta in zeta_array for lambd in lambd_array])"
   ]
  },
  {
   "cell_type": "code",
   "execution_count": 495,
   "metadata": {},
   "outputs": [
    {
     "data": {
      "text/plain": [
       "array(['AuAu', 'AuO', 'AuH', 'OO', 'OH', 'HH'], dtype='<U4')"
      ]
     },
     "execution_count": 495,
     "metadata": {},
     "output_type": "execute_result"
    }
   ],
   "source": [
    "np.array([e1+e2 for e1, e2 in comb_replace(SUPPORTED_ELEMENTS, 2)])"
   ]
  },
  {
   "cell_type": "code",
   "execution_count": 496,
   "metadata": {},
   "outputs": [],
   "source": [
    "at_idx_map = at_idx_map_generator_old(md_train_arr[0])"
   ]
  },
  {
   "cell_type": "code",
   "execution_count": 497,
   "metadata": {},
   "outputs": [
    {
     "name": "stdout",
     "output_type": "stream",
     "text": [
      "dict_keys(['Au', 'O', 'H'])\n",
      "dict_keys(['Au', 'O', 'H'])\n",
      "dict_keys(['Au', 'O', 'H'])\n"
     ]
    }
   ],
   "source": [
    "Gparam_dict = {}\n",
    "for at_type in at_idx_map.keys():\n",
    "   Gparam_dict[at_type] = {}\n",
    "   Gparam_dict[at_type]['rad'] = {}\n",
    "   for at2_rad in at_idx_map.keys():\n",
    "           Gparam_dict[at_type]['rad'][at2_rad] = rad_params\n",
    "\n",
    "   # This Section is already designed to be genera\n",
    "   Gparam_dict[at_type]['ang'] = {}\n",
    "   for at23_ang in ang_comp[at_type]:\n",
    "       Gparam_dict[at_type]['ang'][at23_ang] = ang_params\n",
    "for at_type in Gparam_dict.keys():\n",
    "   print(Gparam_dict[at_type]['rad'].keys())"
   ]
  },
  {
   "cell_type": "code",
   "execution_count": 498,
   "metadata": {},
   "outputs": [],
   "source": [
    "def cutoff(Rc, Rij):\n",
    "    \"\"\" Cutoff function for both angular and radial symmetry function\n",
    "        Args:\n",
    "            Rc: the cutoff radius\n",
    "            Rij: (arr) distance between two atoms of index i and j.\n",
    "\n",
    "        Outputs:\n",
    "            cutoff_arr: the value of the cut off function\n",
    "            f = 0.5 * (Cos[ pi * Rij / Rc] + 1)\n",
    "\n",
    "    \"\"\"\n",
    "    const = 1 / Rc\n",
    "\n",
    "    cutoff_arr = 0.5 * ( np.cos( np.pi * Rij * const ) + 1) *  (Rij < Rc)\n",
    "\n",
    "    return cutoff_arr\n",
    "\n",
    "\n",
    "def radial_filter(Rs, eta, Rij):\n",
    "    \"\"\"radial filter for symmetry functions\n",
    "    # Arguments\n",
    "        Rs, eta: radial symmetry function parameters; float\n",
    "        Rij: distance values between two given atoms i and j;\n",
    "                1D numpy array of length Nsamples\n",
    "\n",
    "    # Returns\n",
    "        G_rad_ij: radial filter values; 1D numpy array of length nb_samples\n",
    "    \"\"\"\n",
    "    G_rad_ij = np.exp(-eta * (Rij-Rs)**2)\n",
    "    return G_rad_ij\n",
    "\n",
    "def angular_filter(Rij, Rik, Rjk, eta, zeta, lambd):\n",
    "    \"\"\"angular filter for angular symmetry functions\n",
    "    # Arguments\n",
    "        eta, zeta, lambd: angular symmetry function parameters\n",
    "        Rij, Rik, Rjk: distances among three atoms i, j, k; 1D arrays of length nb_samples\n",
    "\n",
    "    # Returns\n",
    "        G_ang_ij: angular filter values; 1D numpy array of length nb_samples\n",
    "\n",
    "    \"\"\"\n",
    "    cos_angle = (Rij**2 + Rik**2 - Rjk**2)/(2.0 * Rij * Rik)\n",
    "    rad_filter = np.exp(-eta*(Rij + Rik + Rjk)**2)\n",
    "    G_ang_ijk = 2**(1.0-zeta) * (1.0 + lambd * cos_angle)**zeta * rad_filter\n",
    "\n",
    "\n",
    "    return G_ang_ijk"
   ]
  },
  {
   "cell_type": "code",
   "execution_count": 499,
   "metadata": {},
   "outputs": [
    {
     "name": "stderr",
     "output_type": "stream",
     "text": [
      "<ipython-input-499-21b380972b51>:3: DeprecationWarning: The default dtype for empty Series will be 'object' instead of 'float64' in a future version. Specify a dtype explicitly to silence this warning.\n",
      "  Gfunc_data = pd.Series([])\n",
      "<ipython-input-499-21b380972b51>:11: DeprecationWarning: The default dtype for empty Series will be 'object' instead of 'float64' in a future version. Specify a dtype explicitly to silence this warning.\n",
      "  Gfunc_data[at_type] = pd.Series([])\n"
     ]
    }
   ],
   "source": [
    "    #pdb.set_trace()\n",
    "    Nsamples = distances.shape[0]\n",
    "    Gfunc_data = pd.Series([])\n",
    "\n",
    "    # This for loop goes through elements\n",
    "    # Are together\n",
    "    for at_type in at_idx_map.keys():\n",
    "        Gparam_rad = Gparam_dict[at_type]['rad']\n",
    "        Gparam_ang = Gparam_dict[at_type]['ang']\n",
    "\n",
    "        Gfunc_data[at_type] = pd.Series([])\n",
    "\n",
    "        rad_count = sum([Gparam_rad[t].shape[0] for t in Gparam_rad.keys()])\n",
    "        ang_count = sum([Gparam_ang[t].shape[0] for t in Gparam_ang.keys()])\n",
    "\n",
    "\n",
    "        ## This for loop goes through all the atoms (belong to the same element)\n",
    "        for at1 in at_idx_map[at_type]:\n",
    "            Gfunc_data[at_type][at1] = np.zeros((Nsamples, rad_count + ang_count))\n",
    "\n",
    "            G_temp_count = 0\n",
    "\n",
    "            # radial components\n",
    "            for at2_type in Gparam_rad.keys():\n",
    "                comp_count =  Gparam_rad[at2_type].shape[0]\n",
    "                G_temp_component = np.zeros((Nsamples, comp_count))\n",
    "\n",
    "                for count, values in enumerate(Gparam_rad[at2_type]):\n",
    "                    #pdb.set_trace()\n",
    "                    for at2 in at_idx_map[at2_type][at_idx_map[at2_type]!=at1]:\n",
    "                        # Problem Located: The following code does not work.\n",
    "                        # The dist does not put into the allowance.\n",
    "                        dist = tuple(sorted([at1, at2]))\n",
    "                        #pdb.set_trace()\n",
    "                        R12_array = distances[dist].values[:Nsamples]\n",
    "                        # values[0] = Rs, values[1] = eta (integer, not array), values[2] = Rc (cutoff)\n",
    "                        # Then Calculate the radial symmetric function -> value of G.\n",
    "                        rad_temp = radial_filter(values[0], values[1], R12_array) * cutoff(values[2], R12_array)\n",
    "                        G_temp_component[:,count] += rad_temp\n",
    "\n",
    "                Gfunc_data[at_type][at1][:,G_temp_count:G_temp_count+comp_count] = G_temp_component\n",
    "                G_temp_count += comp_count\n",
    "\n",
    "            # ======================\n",
    "            # angular components\n",
    "            for atAatB_type in Gparam_ang.keys():\n",
    "                comp_count = Gparam_ang[atAatB_type].shape[0]\n",
    "                G_temp_component = np.zeros((Nsamples, comp_count))\n",
    "                                # This for loop goes through all 'HH', 'HO' combo?\n",
    "            for count, values in enumerate(Gparam_ang[atAatB_type]):\n",
    "                    atA_list = at_idx_map[atAatB_type[0]][at_idx_map[atAatB_type[0]]!=at1]\n",
    "                    for atA in atA_list:\n",
    "                        dist_1A = tuple(sorted([at1, atA]))\n",
    "                        R1A_array = distances[dist_1A].values[:Nsamples]\n",
    "\n",
    "                        if atAatB_type[0] == atAatB_type[1]:\n",
    "                            atB_list = at_idx_map[atAatB_type[1]][(at_idx_map[atAatB_type[1]]!=at1) & (at_idx_map[atAatB_type[1]]>atA)]\n",
    "                        else:\n",
    "                            atB_list = at_idx_map[atAatB_type[1]][(at_idx_map[atAatB_type[1]]!=at1)]\n",
    "\n",
    "                        for atB in atB_list:\n",
    "                            dist_1B = tuple(sorted([at1, atB]))\n",
    "                            dist_AB = tuple(sorted([atA, atB]))\n",
    "                            R1B_array = distances[dist_1B].values[:Nsamples]\n",
    "                            RAB_array = distances[dist_AB].values[:Nsamples]\n",
    "\n",
    "                            if np.any(R1B_array == 0):\n",
    "                                import pdb; pdb.set_trace()\n",
    "                            if np.any(RAB_array == 0):\n",
    "                                import pdb; pdb.set_trace();\n",
    "                            ang_temp = angular_filter(R1A_array, R1B_array, RAB_array, values[0], values[1], values[2]) \\\n",
    "                                        * cutoff(values[3], R1A_array) * cutoff(values[3], R1B_array) * cutoff(values[3], RAB_array)\n",
    "\n",
    "                            G_temp_component[:, count] += ang_temp\n",
    "            Gfunc_data[at_type][at1][:,G_temp_count:G_temp_count+comp_count] = G_temp_component\n",
    "            G_temp_count += comp_count"
   ]
  },
  {
   "cell_type": "code",
   "execution_count": 500,
   "metadata": {},
   "outputs": [
    {
     "data": {
      "text/plain": [
       "[<matplotlib.lines.Line2D at 0x1404fec8>]"
      ]
     },
     "execution_count": 500,
     "metadata": {},
     "output_type": "execute_result"
    },
    {
     "data": {
      "image/png": "[encoded data removed]",
      "text/plain": [
       "<Figure size 432x288 with 1 Axes>"
      ]
     },
     "metadata": {
      "needs_background": "light"
     },
     "output_type": "display_data"
    }
   ],
   "source": [
    "plt.plot(Gfunc_data[SUPPORTED_ELEMENTS[0]][0][0])"
   ]
  },
  {
   "cell_type": "code",
   "execution_count": 501,
   "metadata": {},
   "outputs": [
    {
     "name": "stdout",
     "output_type": "stream",
     "text": [
      "54\n"
     ]
    }
   ],
   "source": [
    "n_symm_func =Gfunc_data[SUPPORTED_ELEMENTS[0]][0][0].shape[0]\n",
    "print(n_symm_func)"
   ]
  },
  {
   "cell_type": "code",
   "execution_count": null,
   "metadata": {},
   "outputs": [],
   "source": []
  }
 ],
 "metadata": {
  "interpreter": {
   "hash": "090d79643a76e77c83d90b5f2e6d078ec48cf5a15a1d258c3d068bd93041c698"
  },
  "kernelspec": {
   "display_name": "Python 3.8.0 32-bit",
   "language": "python",
   "name": "python3"
  },
  "language_info": {
   "codemirror_mode": {
    "name": "ipython",
    "version": 3
   },
   "file_extension": ".py",
   "mimetype": "text/x-python",
   "name": "python",
   "nbconvert_exporter": "python",
   "pygments_lexer": "ipython3",
   "version": "3.8.0"
  },
  "orig_nbformat": 4
 },
 "nbformat": 4,
 "nbformat_minor": 2
}
