{
 "cells": [
  {
   "cell_type": "code",
   "execution_count": 1,
   "metadata": {},
   "outputs": [],
   "source": [
    "import os                                                              \n",
    "import time   \n",
    "import pickle\n",
    "import sys\n",
    "import numpy as np                                                     \n",
    "import pandas as pd   \n",
    "import seaborn as sns                                                  \n",
    "import matplotlib.pyplot as plt                                        \n",
    "                                                                       \n",
    "from sklearn.metrics import mean_absolute_error                        \n",
    "from sklearn.metrics import mean_squared_error                         \n",
    "from sklearn.model_selection import train_test_split                   \n",
    "from sklearn.preprocessing import StandardScaler                       \n",
    "from sklearn.model_selection import train_test_split                   \n",
    "\n",
    "import ase                                                             \n",
    "import ase.build                                                       \n",
    "from ase import Atoms                                                  \n",
    "from ase.atoms import Atoms                                            \n",
    "from ase.io import read, write                                         \n",
    "from ase.calculators.dftb import Dftb                                  \n",
    "from ase.units import Hartree, mol, kcal, Bohr                         \n",
    "                                                                       \n",
    "from Calculator import src_nogrd                                                       \n",
    "from Calculator.src_nogrd import sym_func_show                                    \n",
    "from Calculator.src_nogrd import xyzArr_generator                                 \n",
    "from Calculator.src_nogrd import feat_scaling_func                                \n",
    "from Calculator.src_nogrd import at_idx_map_generator\n",
    "from Calculator.src_nogrd import at_idx_map_generator_old\n",
    "                                                                                                                           \n",
    "import pickle\n",
    "from itertools import combinations_with_replacement as comb_replace\n",
    "                                                                       \n",
    "import Utils.DirNav                                                \n",
    "from Utils.dftb_traj_io import read_scan_traj"
   ]
  },
  {
   "cell_type": "code",
   "execution_count": 4,
   "metadata": {},
   "outputs": [],
   "source": [
    "root_dir = 'C:\\\\Users\\\\Tysh\\\\Desktop\\\\'\n",
    "\n",
    "geom_filename          = os.path.join(root_dir,'Au79.xyz')\n",
    "md_train_arr_origin    = read_scan_traj(filename=geom_filename)\n",
    "md_train_arr = md_train_arr_origin.copy(deep=False).reset_index(drop=True)"
   ]
  },
  {
   "cell_type": "code",
   "execution_count": 5,
   "metadata": {},
   "outputs": [],
   "source": [
    "nAtoms, xyzArr = xyzArr_generator(md_train_arr)# Calculate distance dataframe from xyz coordinates\n",
    "distances = src_nogrd.distances_from_xyz(xyzArr, nAtoms)"
   ]
  },
  {
   "cell_type": "code",
   "execution_count": 6,
   "metadata": {},
   "outputs": [],
   "source": [
    "SUPPORTED_ELEMENTS = ['Au', 'O', 'H']\n",
    "\n",
    "#at_idx_map_naive = at_idx_map_generator_old(md_train_arr[0])\n",
    "## Hotfix for atom ordering without touching at_idx_map_generator\n",
    "#at_idx_map_old = {el : at_idx_map_naive[el] for el in SUPPORTED_ELEMENTS}\n",
    "#at_idx_map = at_idx_map_generator_old(md_train_arr[0])\n",
    "#print(at_idx_map)"
   ]
  },
  {
   "cell_type": "code",
   "execution_count": 8,
   "metadata": {},
   "outputs": [
    {
     "ename": "KeyError",
     "evalue": "'C'",
     "output_type": "error",
     "traceback": [
      "\u001b[1;31m---------------------------------------------------------------------------\u001b[0m",
      "\u001b[1;31mKeyError\u001b[0m                                  Traceback (most recent call last)",
      "\u001b[1;32m<ipython-input-8-f6597aba3cf6>\u001b[0m in \u001b[0;36m<module>\u001b[1;34m\u001b[0m\n\u001b[1;32m----> 1\u001b[1;33m \u001b[0mat_idx_map\u001b[0m \u001b[1;33m=\u001b[0m \u001b[0mat_idx_map_generator\u001b[0m\u001b[1;33m(\u001b[0m\u001b[0mmd_train_arr\u001b[0m\u001b[1;33m[\u001b[0m\u001b[1;36m0\u001b[0m\u001b[1;33m]\u001b[0m\u001b[1;33m)\u001b[0m\u001b[1;33m\u001b[0m\u001b[1;33m\u001b[0m\u001b[0m\n\u001b[0m\u001b[0;32m      2\u001b[0m \u001b[0mprint\u001b[0m\u001b[1;33m(\u001b[0m\u001b[0mat_idx_map\u001b[0m\u001b[1;33m)\u001b[0m\u001b[1;33m\u001b[0m\u001b[1;33m\u001b[0m\u001b[0m\n\u001b[0;32m      3\u001b[0m \u001b[1;31m#print(at_idx_map_naive)\u001b[0m\u001b[1;33m\u001b[0m\u001b[1;33m\u001b[0m\u001b[1;33m\u001b[0m\u001b[0m\n\u001b[0;32m      4\u001b[0m \u001b[1;33m\u001b[0m\u001b[0m\n\u001b[0;32m      5\u001b[0m \u001b[0mdistances\u001b[0m\u001b[1;33m.\u001b[0m\u001b[0mmax\u001b[0m\u001b[1;33m\u001b[0m\u001b[1;33m\u001b[0m\u001b[0m\n",
      "\u001b[1;32mc:\\Users\\Tysh\\Desktop\\src\\Calculator\\src_nogrd.py\u001b[0m in \u001b[0;36mat_idx_map_generator\u001b[1;34m(atoms)\u001b[0m\n\u001b[0;32m    187\u001b[0m     \u001b[0msorted_dict\u001b[0m \u001b[1;33m=\u001b[0m \u001b[1;33m{\u001b[0m\u001b[1;33m}\u001b[0m\u001b[1;33m\u001b[0m\u001b[1;33m\u001b[0m\u001b[0m\n\u001b[0;32m    188\u001b[0m     \u001b[1;32mfor\u001b[0m \u001b[0mel\u001b[0m \u001b[1;32min\u001b[0m \u001b[0msorted\u001b[0m\u001b[1;33m(\u001b[0m\u001b[0msupported_elements\u001b[0m\u001b[1;33m)\u001b[0m\u001b[1;33m:\u001b[0m\u001b[1;33m\u001b[0m\u001b[1;33m\u001b[0m\u001b[0m\n\u001b[1;32m--> 189\u001b[1;33m         \u001b[0msorted_dict\u001b[0m\u001b[1;33m[\u001b[0m\u001b[0mel\u001b[0m\u001b[1;33m.\u001b[0m\u001b[0mname\u001b[0m\u001b[1;33m]\u001b[0m \u001b[1;33m=\u001b[0m \u001b[0mnp\u001b[0m\u001b[1;33m.\u001b[0m\u001b[0marray\u001b[0m\u001b[1;33m(\u001b[0m\u001b[0mtmp_dict\u001b[0m\u001b[1;33m[\u001b[0m\u001b[0mel\u001b[0m\u001b[1;33m.\u001b[0m\u001b[0mname\u001b[0m\u001b[1;33m]\u001b[0m\u001b[1;33m)\u001b[0m\u001b[1;33m\u001b[0m\u001b[1;33m\u001b[0m\u001b[0m\n\u001b[0m\u001b[0;32m    190\u001b[0m     \u001b[1;32mreturn\u001b[0m \u001b[0msorted_dict\u001b[0m\u001b[1;33m\u001b[0m\u001b[1;33m\u001b[0m\u001b[0m\n\u001b[0;32m    191\u001b[0m \u001b[1;33m\u001b[0m\u001b[0m\n",
      "\u001b[1;31mKeyError\u001b[0m: 'C'"
     ]
    }
   ],
   "source": [
    "at_idx_map = at_idx_map_generator(md_train_arr[0])\n",
    "print(at_idx_map)\n",
    "#print(at_idx_map_naive)\n",
    "\n",
    "distances.max"
   ]
  },
  {
   "cell_type": "code",
   "execution_count": null,
   "metadata": {},
   "outputs": [],
   "source": []
  }
 ],
 "metadata": {
  "interpreter": {
   "hash": "090d79643a76e77c83d90b5f2e6d078ec48cf5a15a1d258c3d068bd93041c698"
  },
  "kernelspec": {
   "display_name": "Python 3.8.0 32-bit",
   "language": "python",
   "name": "python3"
  },
  "language_info": {
   "codemirror_mode": {
    "name": "ipython",
    "version": 3
   },
   "file_extension": ".py",
   "mimetype": "text/x-python",
   "name": "python",
   "nbconvert_exporter": "python",
   "pygments_lexer": "ipython3",
   "version": "3.8.0"
  },
  "orig_nbformat": 4
 },
 "nbformat": 4,
 "nbformat_minor": 2
}
